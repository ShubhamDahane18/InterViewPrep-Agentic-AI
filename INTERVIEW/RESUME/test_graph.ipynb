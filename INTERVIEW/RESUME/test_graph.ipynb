{
 "cells": [
  {
   "cell_type": "code",
   "execution_count": 23,
   "id": "064b65cf",
   "metadata": {},
   "outputs": [
    {
     "data": {
      "text/plain": [
       "True"
      ]
     },
     "execution_count": 23,
     "metadata": {},
     "output_type": "execute_result"
    }
   ],
   "source": [
    "import os\n",
    "from dotenv import load_dotenv\n",
    "load_dotenv()"
   ]
  },
  {
   "cell_type": "code",
   "execution_count": 24,
   "id": "d823a47c",
   "metadata": {},
   "outputs": [],
   "source": [
    "from langchain_groq import ChatGroq\n",
    "# llm = ChatOpenAI(model=\"gpt-4o-mini\" , api_key=os.getenv(\"OPENAI_API_KEY\"))\n",
    "llm = ChatGroq(model=os.getenv(\"GROQ_MODEL_NAME\") , api_key=os.getenv(\"GROQ_API_KEY\"))"
   ]
  },
  {
   "cell_type": "code",
   "execution_count": 25,
   "id": "2aea569e",
   "metadata": {},
   "outputs": [
    {
     "data": {
      "text/plain": [
       "AIMessage(content='Hello. How can I assist you today?', additional_kwargs={}, response_metadata={'token_usage': {'completion_tokens': 10, 'prompt_tokens': 36, 'total_tokens': 46, 'completion_time': 0.017408034, 'prompt_time': 0.010586064, 'queue_time': 0.045431396, 'total_time': 0.027994098}, 'model_name': 'llama-3.3-70b-versatile', 'system_fingerprint': 'fp_6507bcfb6f', 'finish_reason': 'stop', 'logprobs': None}, id='run--92d90b03-d897-41c1-9420-ee20295c6772-0', usage_metadata={'input_tokens': 36, 'output_tokens': 10, 'total_tokens': 46})"
      ]
     },
     "execution_count": 25,
     "metadata": {},
     "output_type": "execute_result"
    }
   ],
   "source": [
    "llm.invoke(\"hello\")"
   ]
  },
  {
   "cell_type": "code",
   "execution_count": 26,
   "id": "8ef8caee",
   "metadata": {},
   "outputs": [],
   "source": [
    "from typing import TypedDict, Optional, List\n",
    "from typing_extensions import NotRequired\n",
    "\n",
    "\n",
    "class Project(TypedDict):\n",
    "    project_name: Optional[str]\n",
    "    github_link: NotRequired[Optional[str]]\n",
    "    live_link: NotRequired[Optional[str]]\n",
    "    time_period: NotRequired[Optional[str]]\n",
    "    features: NotRequired[List[str]]\n",
    "    tech_stack: NotRequired[List[str]]\n",
    "\n",
    "\n",
    "class SkillsSection(TypedDict):\n",
    "    programming_languages: NotRequired[List[str]]\n",
    "    frameworks: NotRequired[List[str]]\n",
    "    libraries_tools: NotRequired[List[str]]\n",
    "    databases: NotRequired[List[str]]\n",
    "    soft_skills: NotRequired[List[str]]\n",
    "\n",
    "\n",
    "class Experience(TypedDict):\n",
    "    role: Optional[str]\n",
    "    company: Optional[str]\n",
    "    start_date: NotRequired[Optional[str]]\n",
    "    end_date: NotRequired[Optional[str]]\n",
    "    responsibilities: NotRequired[List[str]]\n",
    "\n",
    "\n",
    "class ExtracurricularActivity(TypedDict):\n",
    "    title: Optional[str]\n",
    "    organization: NotRequired[Optional[str]]\n",
    "    description: NotRequired[Optional[str]]\n",
    "    date: NotRequired[Optional[str]]\n",
    "\n",
    "\n",
    "class ResumeAgentState(TypedDict):\n",
    "    message: NotRequired[Optional[str]]\n",
    "    full_text: NotRequired[Optional[str]]\n",
    "    links: NotRequired[List[dict]]\n",
    "\n",
    "    # Personal Info\n",
    "    name: NotRequired[Optional[str]]\n",
    "    email: NotRequired[Optional[str]]\n",
    "    mob_no: NotRequired[Optional[str]]\n",
    "\n",
    "    # Profile Links\n",
    "    linkedin: NotRequired[Optional[str]]\n",
    "    github: NotRequired[Optional[str]]\n",
    "    leetcode: NotRequired[Optional[str]]\n",
    "\n",
    "    # Skills and Projects\n",
    "    skills: NotRequired[SkillsSection]\n",
    "    projects: NotRequired[List[Project]]\n",
    "\n",
    "    # Experience and Extracurriculars\n",
    "    experience: NotRequired[List[Experience]]\n",
    "    extracurriculars: NotRequired[List[ExtracurricularActivity]]\n",
    "\n",
    "\n",
    "# job_state.py\n",
    "class JobInfoState(TypedDict):\n",
    "    response: Optional[str]\n",
    "    user_input: Optional[str]\n",
    "    job_title: Optional[str]\n",
    "    company: Optional[str]\n",
    "    location: NotRequired[Optional[str]]\n",
    "    job_type: NotRequired[Optional[str]]  # Full-time, Internship, etc.\n",
    "    description: NotRequired[Optional[str]]\n",
    "    required_skills: NotRequired[List[str]]\n"
   ]
  },
  {
   "cell_type": "code",
   "execution_count": 27,
   "id": "3f698beb",
   "metadata": {},
   "outputs": [],
   "source": [
    "from pydantic import BaseModel, EmailStr, Field\n",
    "from typing import Optional, List\n",
    "\n",
    "class Project(BaseModel):\n",
    "    project_name: str = Field(..., description=\"Name of the project\")\n",
    "    github_link: Optional[str] = Field(None, description=\"GitHub URL of the project\")\n",
    "    live_link: Optional[str] = Field(None, description=\"Live demo or deployment link\")\n",
    "    time_period: Optional[str] = Field(None, description=\"Time duration or dates of the project\")\n",
    "    features: Optional[List[str]] = Field(default_factory=list, description=\"Key features of the project\")\n",
    "    tech_stack: Optional[List[str]] = Field(default_factory=list, description=\"Technologies used in the project\")\n",
    "\n",
    "\n",
    "class SkillsSection(BaseModel):\n",
    "    programming_languages: Optional[List[str]] = Field(default_factory=list, description=\"Languages like Python, C++\")\n",
    "    frameworks: Optional[List[str]] = Field(default_factory=list, description=\"Frameworks like Django, React\")\n",
    "    libraries_tools: Optional[List[str]] = Field(default_factory=list, description=\"Libraries and tools like NumPy, Git\")\n",
    "    databases: Optional[List[str]] = Field(default_factory=list, description=\"Databases like MongoDB, MySQL\")\n",
    "    soft_skills: Optional[List[str]] = Field(default_factory=list, description=\"Soft skills like leadership, communication\")\n",
    "\n",
    "\n",
    "class Experience(BaseModel):\n",
    "    role: str = Field(..., description=\"Job title or position held\")\n",
    "    company: str = Field(..., description=\"Company or organization name\")\n",
    "    start_date: Optional[str] = Field(None, description=\"Start date in format YYYY-MM or similar\")\n",
    "    end_date: Optional[str] = Field(None, description=\"End date or 'Present'\")\n",
    "    responsibilities: Optional[List[str]] = Field(default_factory=list, description=\"Key responsibilities or achievements\")\n",
    "\n",
    "\n",
    "class ExtracurricularActivity(BaseModel):\n",
    "    title: str = Field(..., description=\"Name of the activity or achievement\")\n",
    "    organization: Optional[str] = Field(None, description=\"Organization or club involved\")\n",
    "    description: Optional[str] = Field(None, description=\"Details of the activity\")\n",
    "    date: Optional[str] = Field(None, description=\"Date or time period of the activity\")\n",
    "\n",
    "\n",
    "class ExtractResumeData(BaseModel):\n",
    "    # Personal Information\n",
    "    name: Optional[str] = Field(None, description=\"Candidate's full name\")\n",
    "    email: Optional[EmailStr] = Field(None, description=\"Email address\")\n",
    "    mob_no: Optional[str] = Field(None, description=\"Mobile phone number\")\n",
    "\n",
    "    # Profiles\n",
    "    linkedin: Optional[str] = Field(None, description=\"LinkedIn profile URL\")\n",
    "    github: Optional[str] = Field(None, description=\"GitHub profile URL\")\n",
    "    leetcode: Optional[str] = Field(None, description=\"LeetCode profile URL\")\n",
    "\n",
    "    # Skills and Projects\n",
    "    skills: Optional[SkillsSection] = Field(default_factory=SkillsSection, description=\"Structured skill information\")\n",
    "    projects: Optional[List[Project]] = Field(default_factory=list, description=\"List of personal or academic projects\")\n",
    "\n",
    "    # New Sections\n",
    "    experience: Optional[List[Experience]] = Field(default_factory=list, description=\"Work or internship experience\")\n",
    "    extracurriculars: Optional[List[ExtracurricularActivity]] = Field(default_factory=list, description=\"Clubs, competitions, and other activities\")\n",
    "\n",
    "\n",
    "class ExtractJobInfo(BaseModel):\n",
    "    job_title: str = Field(..., description=\"Title of the job role, e.g., Software Engineer, Data Analyst\")\n",
    "    company: Optional[str] = Field(None, description=\"Name of the company offering the job\")\n",
    "    location: Optional[str] = Field(None, description=\"Job location, e.g., city, state, or remote\")\n",
    "    job_type: Optional[str] = Field(None, description=\"Type of job, e.g., Full-time, Internship, Contract\")\n",
    "    description: Optional[str] = Field(None, description=\"Full job description text\")\n",
    "    required_skills: List[str] = Field(default_factory=list, description=\"List of skills required for the job role\")"
   ]
  },
  {
   "cell_type": "code",
   "execution_count": 28,
   "id": "3c3a986e",
   "metadata": {},
   "outputs": [
    {
     "name": "stdout",
     "output_type": "stream",
     "text": [
      "llama-3.3-70b-versatile\n"
     ]
    }
   ],
   "source": [
    "\n",
    "from langchain_groq import ChatGroq\n",
    "from langchain_google_genai import ChatGoogleGenerativeAI\n",
    "\n",
    "import os\n",
    "from dotenv import load_dotenv\n",
    "load_dotenv()\n",
    "print(os.getenv(\"GROQ_MODEL_NAME\"))\n",
    "\n",
    "# llm = ChatGroq(model=\"llama-3.3-70b-versatile\")\n",
    "llm = ChatGoogleGenerativeAI(model=\"gemini-2.5-pro\" , api_key=os.getenv(\"GOOGLE_API_KEY\"))\n",
    "\n",
    "def load_llm():\n",
    "    return llm"
   ]
  },
  {
   "cell_type": "code",
   "execution_count": 31,
   "id": "f4bb3caa",
   "metadata": {},
   "outputs": [],
   "source": [
    "\n",
    "\n",
    "def extract_resume_data(state: ResumeAgentState) -> ResumeAgentState:\n",
    "    try:\n",
    "        # Load the structured-output LLM with the expected schema\n",
    "        llm = load_llm().with_structured_output(ExtractResumeData)\n",
    "        \n",
    "        # Extract inputs from state\n",
    "        full_text = state.get('full_text' , '')\n",
    "        links = state.get('links' , [])\n",
    "\n",
    "        # Combine text and links into a single input string\n",
    "        resume_input = full_text + \"\\n\\nLinks:\\n\" + \"\\n\".join(\n",
    "        f\"Page: {link['page']}, Text: {link['text']}, URL: {link['url']}\" for link in links)\n",
    "\n",
    "        # Invoke the LLM to extract structured data\n",
    "        extracted_data = llm.invoke(resume_input)\n",
    "\n",
    "        # Return the updated state\n",
    "        return extracted_data.model_dump()\n",
    "\n",
    "    except Exception as e:\n",
    "        raise RuntimeError(f\"Failed to extract resume data: {e}\")"
   ]
  },
  {
   "cell_type": "code",
   "execution_count": 32,
   "id": "029ea022",
   "metadata": {},
   "outputs": [],
   "source": [
    "import requests\n",
    "\n",
    "\n",
    "def check_links_and_alert(state: ResumeAgentState) -> ResumeAgentState:\n",
    "    broken_links = []\n",
    "    \n",
    "    for key, value in state.items():\n",
    "        if key in (\"full_text\", \"links\"):\n",
    "            continue\n",
    "        if isinstance(value, list):\n",
    "            for item in value:\n",
    "                if isinstance(item, dict):\n",
    "                    for k, v in item.items():\n",
    "                        if isinstance(v, str) and v.startswith(\"http\"):\n",
    "                            try:\n",
    "                                response = requests.get(v, timeout=5)\n",
    "                                if response.status_code >= 400:\n",
    "                                    broken_links.append((k, v, response.status_code))\n",
    "                            except Exception:\n",
    "                                broken_links.append((k, v, \"Error\"))\n",
    "        elif isinstance(value, str) and value.startswith(\"http\"):\n",
    "            try:\n",
    "                response = requests.get(value, timeout=5)\n",
    "                if response.status_code >= 400:\n",
    "                    broken_links.append((key, value, response.status_code))\n",
    "            except Exception:\n",
    "                broken_links.append((key, value, \"Error\"))\n",
    "\n",
    "    if broken_links:\n",
    "        msg = \"🚨 Some links in your resume are not working:\\n\"\n",
    "        for k, link, status in broken_links:\n",
    "            msg += f\"- **Key**: `{k}` | **Link**: {link} | **Status**: {status}\\n\"\n",
    "        msg += \"\\n🔁 Please update these links in your resume.\"\n",
    "    else:\n",
    "        msg = \"✅ All good! All details are fetched successfully and your links are working fine.\"\n",
    "\n",
    "    return {\"message\":msg}"
   ]
  },
  {
   "cell_type": "code",
   "execution_count": 33,
   "id": "51385990",
   "metadata": {},
   "outputs": [],
   "source": [
    "def response(state: ResumeAgentState) -> ResumeAgentState:\n",
    "    return"
   ]
  },
  {
   "cell_type": "code",
   "execution_count": 36,
   "id": "579021b9",
   "metadata": {},
   "outputs": [],
   "source": [
    "\n",
    "from langgraph.graph import StateGraph , START , END\n",
    "\n",
    "def build_graph():\n",
    "\n",
    "    builder = StateGraph(ResumeAgentState)\n",
    "\n",
    "    builder.add_node(\"extract_resume_data\" , extract_resume_data)\n",
    "    builder.add_node(\"check_links_and_alert\" , check_links_and_alert)\n",
    "\n",
    "    builder.add_edge(START , \"extract_resume_data\")\n",
    "    builder.add_edge(\"extract_resume_data\" , \"check_links_and_alert\")\n",
    "    builder.add_edge(\"check_links_and_alert\" , END)\n",
    "\n",
    "    graph = builder.compile()\n",
    "    return graph"
   ]
  },
  {
   "cell_type": "code",
   "execution_count": 37,
   "id": "f93caa64",
   "metadata": {},
   "outputs": [],
   "source": [
    "graph = build_graph()"
   ]
  },
  {
   "cell_type": "code",
   "execution_count": 38,
   "id": "2dc69e75",
   "metadata": {},
   "outputs": [
    {
     "data": {
      "image/png": "[encoded data removed]",
      "text/plain": [
       "<IPython.core.display.Image object>"
      ]
     },
     "metadata": {},
     "output_type": "display_data"
    }
   ],
   "source": [
    "from IPython.display import Image , display\n",
    "display(Image(graph.get_graph().draw_mermaid_png()))"
   ]
  },
  {
   "cell_type": "code",
   "execution_count": 39,
   "id": "891fe984",
   "metadata": {},
   "outputs": [],
   "source": [
    "import fitz  # PyMuPDF\n",
    "\n",
    "def extract_text_and_links(pdf_path: str):\n",
    "    full_text = \"\"\n",
    "    links = []\n",
    "\n",
    "    pdf = fitz.open(pdf_path)\n",
    "    \n",
    "    for page_num, page in enumerate(pdf, start=1):\n",
    "        full_text += page.get_text()\n",
    "\n",
    "        # Extract links on this page\n",
    "        for link in page.get_links():\n",
    "            uri = link.get(\"uri\", None)\n",
    "            rect = link.get(\"from\", None)\n",
    "            if uri and rect:\n",
    "                # Get anchor text behind the link\n",
    "                anchor_text = page.get_textbox(rect)\n",
    "                links.append({\n",
    "                    \"page\": page_num,\n",
    "                    \"text\": anchor_text.strip(),\n",
    "                    \"url\": uri.strip()\n",
    "                })\n",
    "\n",
    "    pdf.close()\n",
    "\n",
    "    return full_text, links"
   ]
  },
  {
   "cell_type": "code",
   "execution_count": 40,
   "id": "ad41d3f1",
   "metadata": {},
   "outputs": [],
   "source": [
    "text , links = extract_text_and_links(\"Shubham_resume_with_photo.pdf\")"
   ]
  },
  {
   "cell_type": "code",
   "execution_count": 42,
   "id": "60e8aa48",
   "metadata": {},
   "outputs": [
    {
     "name": "stdout",
     "output_type": "stream",
     "text": [
      " \n",
      "Shubham Dahane \n",
      "shubhamdahane09yz@gmail.com | (+91) 7666174552 \n",
      " \n",
      "ShubhamDahane18                                                                                                  \n",
      "Shubham Dahane \n",
      " \n",
      "SKILLS \n",
      "❖ Programming Languages: Python | C++ \n",
      "❖ Technologies And Frameworks: AI | ML | DL | Gen AI | TensorFlow | PyTorch | \n",
      "LangChain | LangGraph | HTML | CSS| Javascript | VectorDB | MongoDB \n",
      "❖ Tools: Git, GitHub, Docker \n",
      "EDUCATION \n",
      "❖ BRACT’s Vishwakarma Institute of Information Technology, Pune \n"
     ]
    }
   ],
   "source": [
    "print(text[:500])"
   ]
  },
  {
   "cell_type": "code",
   "execution_count": 43,
   "id": "189fdb7c",
   "metadata": {},
   "outputs": [
    {
     "data": {
      "text/plain": [
       "[{'page': 1,\n",
       "  'text': 'ShubhamDahane18',\n",
       "  'url': 'https://github.com/ShubhamDahane18'},\n",
       " {'page': 1,\n",
       "  'text': 'ShubhamDahane18',\n",
       "  'url': 'https://github.com/ShubhamDahane18'},\n",
       " {'page': 1,\n",
       "  'text': 'ShubhamDahane18',\n",
       "  'url': 'https://github.com/ShubhamDahane18'}]"
      ]
     },
     "execution_count": 43,
     "metadata": {},
     "output_type": "execute_result"
    }
   ],
   "source": [
    "links[:3]"
   ]
  },
  {
   "cell_type": "code",
   "execution_count": 44,
   "id": "f99709bc",
   "metadata": {},
   "outputs": [],
   "source": [
    "resume_input = text + \"\\n\\nLinks:\\n\" + \"\\n\".join(\n",
    "    f\"Page: {link['page']}, Text: {link['text']}, URL: {link['url']}\" for link in links\n",
    ")"
   ]
  },
  {
   "cell_type": "code",
   "execution_count": 45,
   "id": "bb4c4a50",
   "metadata": {},
   "outputs": [
    {
     "data": {
      "text/plain": [
       "\" \\nShubham Dahane \\nshubhamdahane09yz@gmail.com | (+91) 7666174552 \\n \\nShubhamDahane18                                                                                                  \\nShubham Dahane \\n \\nSKILLS \\n❖ Programming Languages: Python | C++ \\n❖ Technologies And Frameworks: AI | ML | DL | Gen AI | TensorFlow | PyTorch | \\nLangChain | LangGraph | HTML | CSS| Javascript | VectorDB | MongoDB \\n❖ Tools: Git, GitHub, Docker \\nEDUCATION \\n❖ BRACT’s Vishwakarma Institute of Information Technology, Pune \\nB. Tech Computer Science & Engineering (AI), 2023 – 2027 (CGPA – 8.44)  \\n❖ Yashwantrao Chavan Secondary And Higher Secondary School Kajalamba, Washim  \\nHSC 97.83%, 2020 – 2021 (Rank 1)  \\n❖ Yashwantrao Chavan Secondary And Higher Secondary School Kajalamba, Washim  \\nSchool education up to March 2019, SSC 91.00% (Rank 1) \\n \\nACADEMIC PROJECTS \\n❖ End to End Agentic AI Chatbot with Tools  \\n \\n \\n    \\nBuilt an Agentic AI Chatbot using LangGraph with Groq models (LLaMA3 & Gemma2), \\nsupporting modular use cases like basic chatting, web-enhanced chatbot, AI news fetcher, \\nand blog generator. Designed a stateful multi-agent system with tool integration for \\nautonomous and context-aware task execution. \\n❖ Useful AI in One Dashboard \\nBuilt a unified AI-powered dashboard using Next.js 15 offering tools like conversation, code, \\nimage, video, music, generations and PDF chat. \\nDesigned an intuitive, responsive UI to access multiple GenAI utilities from a single platform \\nfor enhanced user experience. \\n❖ AI-Integrated Diary for Emotional Enhancement \\nCo-developed an AI-powered emotional journaling system leveraging NLP techniques like \\nsentiment analysis, emotion detection, and retrieval-augmented generation. \\nPresented research at the 3rd International Conference on Emerging Trends and Innovations \\nin ICT (ICEI), highlighting AI's role in enhancing emotional well-being through personal diary \\nanalysis. \\n \\nVOLUNTEER \\n❖ Publicity Member | IoT Forum VIIT                                     \\n (Sept 2024- Present) \\nHandled event promotion and boosted forum visibility.  \\n❖ Gandharva X Perception 2024, VIIT                \\n              (Dec 2023 – Feb 2024) \\nCoordinated content in line with event branding and engagement goals. \\nCERTIFICATIONS AND ACHIEVEMENTS  \\n❖ CDAC– Basic Certification Course in Artificial Intelligence \\n❖ Udemy The Complete 2024 Web Development Bootcamp  \\n❖ Unstop NLP and Deep Learning \\n \\n\\n\\nLinks:\\nPage: 1, Text: ShubhamDahane18, URL: https://github.com/ShubhamDahane18\\nPage: 1, Text: ShubhamDahane18, URL: https://github.com/ShubhamDahane18\\nPage: 1, Text: ShubhamDahane18, URL: https://github.com/ShubhamDahane18\\nPage: 1, Text: ShubhamDahane18, URL: https://github.com/ShubhamDahane18\\nPage: 1, Text: ShubhamDahane18, URL: https://github.com/ShubhamDahane18\\nPage: 1, Text: Shubham Dahane, URL: https://www.linkedin.com/in/shubhamdahane18\\nPage: 1, Text: End to End Agentic AI Chatbot with Tools, URL: https://github.com/ShubhamDahane18/Agentic-Chatbot\\nPage: 1, Text: Useful AI in One Dashboard, URL: https://github.com/ShubhamDahane18/Web-Technology-Project-01\\nPage: 1, Text: AI-Integrated Diary for Emotional Enhancement, URL: https://github.com/ShubhamDahane18/Machine-Learning-Lab-Assignment/tree/main/Mini%20Project/ai-diary-project-main\""
      ]
     },
     "execution_count": 45,
     "metadata": {},
     "output_type": "execute_result"
    }
   ],
   "source": [
    "resume_input"
   ]
  },
  {
   "cell_type": "code",
   "execution_count": 46,
   "id": "f3b2441e",
   "metadata": {},
   "outputs": [],
   "source": [
    "input_state = {\n",
    "                \"full_text\": text,\n",
    "                \"links\": links\n",
    "            }"
   ]
  },
  {
   "cell_type": "code",
   "execution_count": 47,
   "id": "09fc22f5",
   "metadata": {},
   "outputs": [],
   "source": [
    "state = graph.invoke(input_state)"
   ]
  },
  {
   "cell_type": "code",
   "execution_count": 48,
   "id": "e2b8668e",
   "metadata": {},
   "outputs": [
    {
     "data": {
      "text/plain": [
       "{'message': '🚨 Some links in your resume are not working:\\n- **Key**: `linkedin` | **Link**: https://www.linkedin.com/in/shubhamdahane18 | **Status**: 999\\n\\n🔁 Please update these links in your resume.',\n",
       " 'full_text': \" \\nShubham Dahane \\nshubhamdahane09yz@gmail.com | (+91) 7666174552 \\n \\nShubhamDahane18                                                                                                  \\nShubham Dahane \\n \\nSKILLS \\n❖ Programming Languages: Python | C++ \\n❖ Technologies And Frameworks: AI | ML | DL | Gen AI | TensorFlow | PyTorch | \\nLangChain | LangGraph | HTML | CSS| Javascript | VectorDB | MongoDB \\n❖ Tools: Git, GitHub, Docker \\nEDUCATION \\n❖ BRACT’s Vishwakarma Institute of Information Technology, Pune \\nB. Tech Computer Science & Engineering (AI), 2023 – 2027 (CGPA – 8.44)  \\n❖ Yashwantrao Chavan Secondary And Higher Secondary School Kajalamba, Washim  \\nHSC 97.83%, 2020 – 2021 (Rank 1)  \\n❖ Yashwantrao Chavan Secondary And Higher Secondary School Kajalamba, Washim  \\nSchool education up to March 2019, SSC 91.00% (Rank 1) \\n \\nACADEMIC PROJECTS \\n❖ End to End Agentic AI Chatbot with Tools  \\n \\n \\n    \\nBuilt an Agentic AI Chatbot using LangGraph with Groq models (LLaMA3 & Gemma2), \\nsupporting modular use cases like basic chatting, web-enhanced chatbot, AI news fetcher, \\nand blog generator. Designed a stateful multi-agent system with tool integration for \\nautonomous and context-aware task execution. \\n❖ Useful AI in One Dashboard \\nBuilt a unified AI-powered dashboard using Next.js 15 offering tools like conversation, code, \\nimage, video, music, generations and PDF chat. \\nDesigned an intuitive, responsive UI to access multiple GenAI utilities from a single platform \\nfor enhanced user experience. \\n❖ AI-Integrated Diary for Emotional Enhancement \\nCo-developed an AI-powered emotional journaling system leveraging NLP techniques like \\nsentiment analysis, emotion detection, and retrieval-augmented generation. \\nPresented research at the 3rd International Conference on Emerging Trends and Innovations \\nin ICT (ICEI), highlighting AI's role in enhancing emotional well-being through personal diary \\nanalysis. \\n \\nVOLUNTEER \\n❖ Publicity Member | IoT Forum VIIT                                     \\n (Sept 2024- Present) \\nHandled event promotion and boosted forum visibility.  \\n❖ Gandharva X Perception 2024, VIIT                \\n              (Dec 2023 – Feb 2024) \\nCoordinated content in line with event branding and engagement goals. \\nCERTIFICATIONS AND ACHIEVEMENTS  \\n❖ CDAC– Basic Certification Course in Artificial Intelligence \\n❖ Udemy The Complete 2024 Web Development Bootcamp  \\n❖ Unstop NLP and Deep Learning \\n \\n\",\n",
       " 'links': [{'page': 1,\n",
       "   'text': 'ShubhamDahane18',\n",
       "   'url': 'https://github.com/ShubhamDahane18'},\n",
       "  {'page': 1,\n",
       "   'text': 'ShubhamDahane18',\n",
       "   'url': 'https://github.com/ShubhamDahane18'},\n",
       "  {'page': 1,\n",
       "   'text': 'ShubhamDahane18',\n",
       "   'url': 'https://github.com/ShubhamDahane18'},\n",
       "  {'page': 1,\n",
       "   'text': 'ShubhamDahane18',\n",
       "   'url': 'https://github.com/ShubhamDahane18'},\n",
       "  {'page': 1,\n",
       "   'text': 'ShubhamDahane18',\n",
       "   'url': 'https://github.com/ShubhamDahane18'},\n",
       "  {'page': 1,\n",
       "   'text': 'Shubham Dahane',\n",
       "   'url': 'https://www.linkedin.com/in/shubhamdahane18'},\n",
       "  {'page': 1,\n",
       "   'text': 'End to End Agentic AI Chatbot with Tools',\n",
       "   'url': 'https://github.com/ShubhamDahane18/Agentic-Chatbot'},\n",
       "  {'page': 1,\n",
       "   'text': 'Useful AI in One Dashboard',\n",
       "   'url': 'https://github.com/ShubhamDahane18/Web-Technology-Project-01'},\n",
       "  {'page': 1,\n",
       "   'text': 'AI-Integrated Diary for Emotional Enhancement',\n",
       "   'url': 'https://github.com/ShubhamDahane18/Machine-Learning-Lab-Assignment/tree/main/Mini%20Project/ai-diary-project-main'}],\n",
       " 'name': 'Shubham Dahane',\n",
       " 'email': 'shubhamdahane09yz@gmail.com',\n",
       " 'mob_no': '(+91) 7666174552',\n",
       " 'linkedin': 'https://www.linkedin.com/in/shubhamdahane18',\n",
       " 'github': 'https://github.com/ShubhamDahane18',\n",
       " 'leetcode': None,\n",
       " 'skills': {'programming_languages': ['Python',\n",
       "   'C++',\n",
       "   'HTML',\n",
       "   'CSS',\n",
       "   'Javascript'],\n",
       "  'frameworks': ['TensorFlow', 'PyTorch', 'LangChain', 'LangGraph'],\n",
       "  'libraries_tools': ['Git', 'GitHub', 'Docker'],\n",
       "  'databases': ['VectorDB', 'MongoDB'],\n",
       "  'soft_skills': ['AI', 'ML', 'DL', 'Gen AI']},\n",
       " 'projects': [{'project_name': 'End to End Agentic AI Chatbot with Tools',\n",
       "   'github_link': 'https://github.com/ShubhamDahane18/Agentic-Chatbot',\n",
       "   'live_link': None,\n",
       "   'time_period': None,\n",
       "   'features': ['Built an Agentic AI Chatbot using LangGraph with Groq models (LLaMA3 & Gemma2), supporting modular use cases like basic chatting, web-enhanced chatbot, AI news fetcher, and blog generator.',\n",
       "    'Designed a stateful multi-agent system with tool integration for autonomous and context-aware task execution.'],\n",
       "   'tech_stack': []},\n",
       "  {'project_name': 'Useful AI in One Dashboard',\n",
       "   'github_link': 'https://github.com/ShubhamDahane18/Web-Technology-Project-01',\n",
       "   'live_link': None,\n",
       "   'time_period': None,\n",
       "   'features': ['Built a unified AI-powered dashboard using Next.js 15 offering tools like conversation, code, image, video, music, generations and PDF chat.',\n",
       "    'Designed an intuitive, responsive UI to access multiple GenAI utilities from a single platform for enhanced user experience.'],\n",
       "   'tech_stack': []},\n",
       "  {'project_name': 'AI-Integrated Diary for Emotional Enhancement',\n",
       "   'github_link': 'https://github.com/ShubhamDahane18/Machine-Learning-Lab-Assignment/tree/main/Mini%20Project/ai-diary-project-main',\n",
       "   'live_link': None,\n",
       "   'time_period': None,\n",
       "   'features': ['Co-developed an AI-powered emotional journaling system leveraging NLP techniques like sentiment analysis, emotion detection, and retrieval-augmented generation.',\n",
       "    \"Presented research at the 3rd International Conference on Emerging Trends and Innovations in ICT (ICEI), highlighting AI's role in enhancing emotional well-being through personal diary analysis.\"],\n",
       "   'tech_stack': []}],\n",
       " 'experience': [],\n",
       " 'extracurriculars': [{'title': 'Publicity Member',\n",
       "   'organization': 'IoT Forum VIIT',\n",
       "   'description': 'Handled event promotion and boosted forum visibility.',\n",
       "   'date': 'Sept 2024- Present'},\n",
       "  {'title': 'Volunteer',\n",
       "   'organization': 'Gandharva X Perception 2024, VIIT',\n",
       "   'description': 'Coordinated content in line with event branding and engagement goals.',\n",
       "   'date': 'Dec 2023 – Feb 2024'},\n",
       "  {'title': 'CDAC– Basic Certification Course in Artificial Intelligence',\n",
       "   'organization': None,\n",
       "   'description': None,\n",
       "   'date': None},\n",
       "  {'title': 'Udemy The Complete 2024 Web Development Bootcamp',\n",
       "   'organization': None,\n",
       "   'description': None,\n",
       "   'date': None},\n",
       "  {'title': 'Unstop NLP and Deep Learning',\n",
       "   'organization': None,\n",
       "   'description': None,\n",
       "   'date': None}]}"
      ]
     },
     "execution_count": 48,
     "metadata": {},
     "output_type": "execute_result"
    }
   ],
   "source": [
    "state"
   ]
  },
  {
   "cell_type": "markdown",
   "id": "9f4c91f4",
   "metadata": {},
   "source": [
    "# Job Info"
   ]
  },
  {
   "cell_type": "code",
   "execution_count": 49,
   "id": "d98a9eed",
   "metadata": {},
   "outputs": [
    {
     "data": {
      "text/plain": [
       "True"
      ]
     },
     "execution_count": 49,
     "metadata": {},
     "output_type": "execute_result"
    }
   ],
   "source": [
    "import os\n",
    "from dotenv import load_dotenv\n",
    "load_dotenv()"
   ]
  },
  {
   "cell_type": "code",
   "execution_count": 50,
   "id": "12460c71",
   "metadata": {},
   "outputs": [],
   "source": [
    "from langchain_groq import ChatGroq\n",
    "# llm = ChatOpenAI(model=\"gpt-4o-mini\" , api_key=os.getenv(\"OPENAI_API_KEY\"))\n",
    "llm = ChatGroq(model=os.getenv(\"GROQ_MODEL_NAME\") , api_key=os.getenv(\"GROQ_API_KEY\"))"
   ]
  },
  {
   "cell_type": "code",
   "execution_count": 51,
   "id": "7421d3a7",
   "metadata": {},
   "outputs": [],
   "source": [
    "from typing import TypedDict, Optional, List\n",
    "from typing_extensions import NotRequired"
   ]
  },
  {
   "cell_type": "code",
   "execution_count": 52,
   "id": "2997e26e",
   "metadata": {},
   "outputs": [],
   "source": [
    "class JobInfoState(TypedDict):\n",
    "    response: Optional[str]\n",
    "    user_input: Optional[str]\n",
    "    job_title: Optional[str]\n",
    "    company: Optional[str]\n",
    "    location: NotRequired[Optional[str]]\n",
    "    job_type: NotRequired[Optional[str]]  # Full-time, Internship, etc.\n",
    "    description: NotRequired[Optional[str]]\n",
    "    required_skills: NotRequired[List[str]]\n",
    "    limit: int = 0\n",
    "    end: bool = False\n",
    "    analysis: Optional[dict]"
   ]
  },
  {
   "cell_type": "code",
   "execution_count": 53,
   "id": "8e4d2d36",
   "metadata": {},
   "outputs": [],
   "source": [
    "from pydantic import BaseModel, Field\n",
    "from typing import Optional, List"
   ]
  },
  {
   "cell_type": "code",
   "execution_count": 54,
   "id": "4099558d",
   "metadata": {},
   "outputs": [],
   "source": [
    "class ExtractJobInfo(BaseModel):\n",
    "    job_title: Optional[str] = Field(None, description=\"Title of the job role, e.g., Software Engineer, Data Analyst\")\n",
    "    company: Optional[str] = Field(None, description=\"Name of the company offering the job\")\n",
    "    location: Optional[str] = Field(None, description=\"Job location, e.g., city, state, or remote\")\n",
    "    job_type: Optional[str] = Field(None, description=\"Type of job, e.g., Full-time, Internship, Contract\")\n",
    "    description: Optional[str] = Field(None, description=\"Full job description text\")\n",
    "    required_skills: Optional[List[str]] = Field(default_factory=list, description=\"List of skills required for the job role given by user.\")"
   ]
  },
  {
   "cell_type": "code",
   "execution_count": 55,
   "id": "84625980",
   "metadata": {},
   "outputs": [],
   "source": [
    "class CheckJobResponse(BaseModel):\n",
    "    response: str = Field(..., description=\"Short, clear response asking for missing fields or confirming completion\")\n",
    "    end: bool = Field(default=False, description=\"Whether all required fields are present. True if everything is complete, otherwise False\")"
   ]
  },
  {
   "cell_type": "code",
   "execution_count": 56,
   "id": "7014f5aa",
   "metadata": {},
   "outputs": [],
   "source": [
    "from pydantic import BaseModel, Field\n",
    "from typing import List\n",
    "\n",
    "class ResumeMatchResponse(BaseModel):\n",
    "    good: List[str] = Field(default_factory=list, description=\"Points where the resume matches the job requirements\")\n",
    "    missing: List[str] = Field(default_factory=list, description=\"Important missing skills/experiences compared to job requirements\")\n",
    "    summary: str = Field(..., description=\"Short overall summary of how well the resume matches the job\")"
   ]
  },
  {
   "cell_type": "code",
   "execution_count": 57,
   "id": "d7441924",
   "metadata": {},
   "outputs": [],
   "source": [
    "from langchain_core.prompts import PromptTemplate\n",
    "\n",
    "check_state_prompt = PromptTemplate(\n",
    "    template=\"\"\"\n",
    "You are validating extracted job information based on structured fields and the latest user input.\n",
    "\n",
    "User Input: {user_input}\n",
    "\n",
    "Job Title: {job_title}\n",
    "Company: {company}\n",
    "Location: {location}\n",
    "Job Type: {job_type}\n",
    "Description: {description}\n",
    "Required Skills: {required_skills}\n",
    "\n",
    "Instructions:\n",
    "1. If the user explicitly states that they only have this much info, or cannot provide more,\n",
    "   then respond: \"Got all details you can move forward 🎉\" and set end = True.\n",
    "\n",
    "2. Otherwise, check the required fields: job_title, company, location, job_type, description, required_skills.\n",
    "   - If any of them are missing or empty, respond with a short, clear message\n",
    "     asking ONLY for those missing fields. Set end = False.\n",
    "   - If all are present, respond: \"Got all details, you can move forward 🎉\". Set end = True.\n",
    "\"\"\",\n",
    "    input_variables=[\"user_input\", \"job_title\", \"company\", \"location\", \"job_type\", \"description\", \"required_skills\"]\n",
    ")"
   ]
  },
  {
   "cell_type": "code",
   "execution_count": 58,
   "id": "5c35922b",
   "metadata": {},
   "outputs": [],
   "source": [
    "from langchain_core.prompts import PromptTemplate\n",
    "\n",
    "resume_match_prompt = PromptTemplate(\n",
    "    template=\"\"\"\n",
    "You are comparing a candidate's resume against a job description.\n",
    "\n",
    "--- Job Info ---\n",
    "Title: {job_title}\n",
    "Company: {company}\n",
    "Location: {location}\n",
    "Job Type: {job_type}\n",
    "Description: {description}\n",
    "Required Skills: {required_skills}\n",
    "\n",
    "--- Resume Info ---\n",
    "Skills: {skills}\n",
    "Projects: {projects}\n",
    "Experience: {experience}\n",
    "Extracurriculars: {extracurriculars}\n",
    "\n",
    "\n",
    "Task:\n",
    "1. Identify skills or experiences from the resume that match the job requirements → good.\n",
    "2. Identify key skills/requirements missing from the resume → missing.\n",
    "3. Provide a short summary of overall fit → summary.\n",
    "\n",
    "Return a structured response.\n",
    "\"\"\",\n",
    "    input_variables=[\"job_title\", \"company\", \"location\", \"job_type\", \"description\", \"required_skills\", \n",
    "                    \"skills\", \"projects\" , \"experience\" , \"extracurriculars\"]\n",
    ")"
   ]
  },
  {
   "cell_type": "code",
   "execution_count": 59,
   "id": "76967d8e",
   "metadata": {},
   "outputs": [],
   "source": [
    "from langgraph.graph import StateGraph , START , END"
   ]
  },
  {
   "cell_type": "code",
   "execution_count": 60,
   "id": "dd943213",
   "metadata": {},
   "outputs": [
    {
     "name": "stdout",
     "output_type": "stream",
     "text": [
      "{'message': '🚨 Some links in your resume are not working:\\n- **Key**: `linkedin` | **Link**: https://www.linkedin.com/in/shubhamdahane18 | **Status**: 999\\n\\n🔁 Please update these links in your resume.', 'full_text': \" \\nShubham Dahane \\nshubhamdahane09yz@gmail.com | (+91) 7666174552 \\n \\nShubhamDahane18                                                                                                  \\nShubham Dahane \\n \\nSKILLS \\n❖ Programming Languages: Python | C++ \\n❖ Technologies And Frameworks: AI | ML | DL | Gen AI | TensorFlow | PyTorch | \\nLangChain | LangGraph | HTML | CSS| Javascript | VectorDB | MongoDB \\n❖ Tools: Git, GitHub, Docker \\nEDUCATION \\n❖ BRACT’s Vishwakarma Institute of Information Technology, Pune \\nB. Tech Computer Science & Engineering (AI), 2023 – 2027 (CGPA – 8.44)  \\n❖ Yashwantrao Chavan Secondary And Higher Secondary School Kajalamba, Washim  \\nHSC 97.83%, 2020 – 2021 (Rank 1)  \\n❖ Yashwantrao Chavan Secondary And Higher Secondary School Kajalamba, Washim  \\nSchool education up to March 2019, SSC 91.00% (Rank 1) \\n \\nACADEMIC PROJECTS \\n❖ End to End Agentic AI Chatbot with Tools  \\n \\n \\n    \\nBuilt an Agentic AI Chatbot using LangGraph with Groq models (LLaMA3 & Gemma2), \\nsupporting modular use cases like basic chatting, web-enhanced chatbot, AI news fetcher, \\nand blog generator. Designed a stateful multi-agent system with tool integration for \\nautonomous and context-aware task execution. \\n❖ Useful AI in One Dashboard \\nBuilt a unified AI-powered dashboard using Next.js 15 offering tools like conversation, code, \\nimage, video, music, generations and PDF chat. \\nDesigned an intuitive, responsive UI to access multiple GenAI utilities from a single platform \\nfor enhanced user experience. \\n❖ AI-Integrated Diary for Emotional Enhancement \\nCo-developed an AI-powered emotional journaling system leveraging NLP techniques like \\nsentiment analysis, emotion detection, and retrieval-augmented generation. \\nPresented research at the 3rd International Conference on Emerging Trends and Innovations \\nin ICT (ICEI), highlighting AI's role in enhancing emotional well-being through personal diary \\nanalysis. \\n \\nVOLUNTEER \\n❖ Publicity Member | IoT Forum VIIT                                     \\n (Sept 2024- Present) \\nHandled event promotion and boosted forum visibility.  \\n❖ Gandharva X Perception 2024, VIIT                \\n              (Dec 2023 – Feb 2024) \\nCoordinated content in line with event branding and engagement goals. \\nCERTIFICATIONS AND ACHIEVEMENTS  \\n❖ CDAC– Basic Certification Course in Artificial Intelligence \\n❖ Udemy The Complete 2024 Web Development Bootcamp  \\n❖ Unstop NLP and Deep Learning \\n \\n\", 'links': [{'page': 1, 'text': 'ShubhamDahane18', 'url': 'https://github.com/ShubhamDahane18'}, {'page': 1, 'text': 'ShubhamDahane18', 'url': 'https://github.com/ShubhamDahane18'}, {'page': 1, 'text': 'ShubhamDahane18', 'url': 'https://github.com/ShubhamDahane18'}, {'page': 1, 'text': 'ShubhamDahane18', 'url': 'https://github.com/ShubhamDahane18'}, {'page': 1, 'text': 'ShubhamDahane18', 'url': 'https://github.com/ShubhamDahane18'}, {'page': 1, 'text': 'Shubham Dahane', 'url': 'https://www.linkedin.com/in/shubhamdahane18'}, {'page': 1, 'text': 'End to End Agentic AI Chatbot with Tools', 'url': 'https://github.com/ShubhamDahane18/Agentic-Chatbot'}, {'page': 1, 'text': 'Useful AI in One Dashboard', 'url': 'https://github.com/ShubhamDahane18/Web-Technology-Project-01'}, {'page': 1, 'text': 'AI-Integrated Diary for Emotional Enhancement', 'url': 'https://github.com/ShubhamDahane18/Machine-Learning-Lab-Assignment/tree/main/Mini%20Project/ai-diary-project-main'}], 'name': 'Shubham Dahane', 'email': 'shubhamdahane09yz@gmail.com', 'mob_no': '(+91) 7666174552', 'linkedin': 'https://www.linkedin.com/in/shubhamdahane18', 'github': 'https://github.com/ShubhamDahane18', 'leetcode': None, 'skills': {'programming_languages': ['Python', 'C++', 'HTML', 'CSS', 'Javascript'], 'frameworks': ['TensorFlow', 'PyTorch', 'LangChain', 'LangGraph'], 'libraries_tools': ['Git', 'GitHub', 'Docker'], 'databases': ['VectorDB', 'MongoDB'], 'soft_skills': ['AI', 'ML', 'DL', 'Gen AI']}, 'projects': [{'project_name': 'End to End Agentic AI Chatbot with Tools', 'github_link': 'https://github.com/ShubhamDahane18/Agentic-Chatbot', 'live_link': None, 'time_period': None, 'features': ['Built an Agentic AI Chatbot using LangGraph with Groq models (LLaMA3 & Gemma2), supporting modular use cases like basic chatting, web-enhanced chatbot, AI news fetcher, and blog generator.', 'Designed a stateful multi-agent system with tool integration for autonomous and context-aware task execution.'], 'tech_stack': []}, {'project_name': 'Useful AI in One Dashboard', 'github_link': 'https://github.com/ShubhamDahane18/Web-Technology-Project-01', 'live_link': None, 'time_period': None, 'features': ['Built a unified AI-powered dashboard using Next.js 15 offering tools like conversation, code, image, video, music, generations and PDF chat.', 'Designed an intuitive, responsive UI to access multiple GenAI utilities from a single platform for enhanced user experience.'], 'tech_stack': []}, {'project_name': 'AI-Integrated Diary for Emotional Enhancement', 'github_link': 'https://github.com/ShubhamDahane18/Machine-Learning-Lab-Assignment/tree/main/Mini%20Project/ai-diary-project-main', 'live_link': None, 'time_period': None, 'features': ['Co-developed an AI-powered emotional journaling system leveraging NLP techniques like sentiment analysis, emotion detection, and retrieval-augmented generation.', \"Presented research at the 3rd International Conference on Emerging Trends and Innovations in ICT (ICEI), highlighting AI's role in enhancing emotional well-being through personal diary analysis.\"], 'tech_stack': []}], 'experience': [], 'extracurriculars': [{'title': 'Publicity Member', 'organization': 'IoT Forum VIIT', 'description': 'Handled event promotion and boosted forum visibility.', 'date': 'Sept 2024- Present'}, {'title': 'Volunteer', 'organization': 'Gandharva X Perception 2024, VIIT', 'description': 'Coordinated content in line with event branding and engagement goals.', 'date': 'Dec 2023 – Feb 2024'}, {'title': 'CDAC– Basic Certification Course in Artificial Intelligence', 'organization': None, 'description': None, 'date': None}, {'title': 'Udemy The Complete 2024 Web Development Bootcamp', 'organization': None, 'description': None, 'date': None}, {'title': 'Unstop NLP and Deep Learning', 'organization': None, 'description': None, 'date': None}]}\n"
     ]
    }
   ],
   "source": [
    "resume = state\n",
    "print(resume)"
   ]
  },
  {
   "cell_type": "code",
   "execution_count": 61,
   "id": "d4fdef4d",
   "metadata": {},
   "outputs": [],
   "source": [
    "def get_resume_details():\n",
    "    return resume"
   ]
  },
  {
   "cell_type": "code",
   "execution_count": 78,
   "id": "bd2848a7",
   "metadata": {},
   "outputs": [],
   "source": [
    "def parse_info(state:JobInfoState) -> JobInfoState:\n",
    "    text = state[\"user_input\"]\n",
    "    limit = state.get(\"limit\" , 0) + 1\n",
    "    print(f\"Limit: {limit}\\n\")\n",
    "    llm_strc = llm.with_structured_output(ExtractJobInfo)\n",
    "    result = llm_strc.invoke(text)\n",
    "    updates = {k: v for k, v in result.model_dump().items() if v not in [None, [], \"\"]}\n",
    "    updates['limit'] = limit\n",
    "    print(f\"JOB INFO : {result.model_dump()}\\n\")\n",
    "    return updates\n",
    "\n",
    "def response(state:JobInfoState) -> JobInfoState:\n",
    "    structured_llm = llm.with_structured_output(CheckJobResponse)\n",
    "    chain = check_state_prompt | structured_llm\n",
    "    result = chain.invoke({\n",
    "        \"user_input\": state.get(\"user_input\" , '') ,\n",
    "        \"job_title\": state.get(\"job_title\" , '') , \n",
    "        \"company\": state.get(\"company\" , '') , \n",
    "        \"location\": state.get(\"location\" , '') , \n",
    "        \"job_type\": state.get(\"job_type\" , '') ,\n",
    "        \"description\": state.get(\"job_type\" , '') , \n",
    "        \"required_skills\": state.get(\"required_skills\" , '')\n",
    "    })\n",
    "    return result.model_dump()\n",
    "\n",
    "def resume_match_node(state:JobInfoState) -> JobInfoState:\n",
    "    structured_llm = llm.with_structured_output(ResumeMatchResponse)\n",
    "\n",
    "    # flatten job and resume info into one dict for prompt\n",
    "    chain = resume_match_prompt | structured_llm\n",
    "    resume = get_resume_details()\n",
    "    \n",
    "    result = chain.invoke({\n",
    "        \"job_title\": state.get(\"job_title\" , '') , \n",
    "        \"company\": state.get(\"company\" , '') , \n",
    "        \"location\": state.get(\"location\" , '') , \n",
    "        \"job_type\": state.get(\"job_type\" , '') ,\n",
    "        \"description\": state.get(\"job_type\" , '') , \n",
    "        \"required_skills\": state.get(\"required_skills\" , '') , \n",
    "        \"skills\": resume.get(\"skills\" , '') , \n",
    "        \"projects\": resume.get(\"projects\" , '') , \n",
    "        \"experience\": resume.get(\"experience\" , '') , \n",
    "        \"extracurriculars\": resume.get(\"extracurriculars\" , '')\n",
    "    })\n",
    "\n",
    "    return {\"analysis\": result.model_dump()}\n",
    "\n",
    "def check_if_complete(state:JobInfoState):\n",
    "    return \"resume_match\" if state.get(\"end\", False) or state.get(\"limit\" , 0) >= 6 else \"end\"\n",
    "\n",
    "# --- Graph setup ---\n",
    "graph = StateGraph(JobInfoState)\n",
    "\n",
    "graph.add_node(\"parse_info\", parse_info)\n",
    "graph.add_node(\"response\", response)\n",
    "graph.add_node(\"resume_match\", resume_match_node)\n",
    "\n",
    "graph.add_edge(START, \"parse_info\")\n",
    "graph.add_edge(\"parse_info\", \"response\")\n",
    "graph.add_conditional_edges(\n",
    "    \"response\",\n",
    "    check_if_complete,\n",
    "    {\"end\": END, \"resume_match\": \"resume_match\"}\n",
    ")\n",
    "graph.add_edge(\"resume_match\", END)\n",
    "\n",
    "app = graph.compile()\n"
   ]
  },
  {
   "cell_type": "code",
   "execution_count": 79,
   "id": "f74caf08",
   "metadata": {},
   "outputs": [
    {
     "data": {
      "image/png": "[encoded data removed]",
      "text/plain": [
       "<IPython.core.display.Image object>"
      ]
     },
     "metadata": {},
     "output_type": "display_data"
    }
   ],
   "source": [
    "from IPython.display import Image , display\n",
    "display(Image(app.get_graph().draw_mermaid_png()))"
   ]
  },
  {
   "cell_type": "code",
   "execution_count": 80,
   "id": "940dd20b",
   "metadata": {},
   "outputs": [],
   "source": [
    "state = {}\n",
    "config = {\"configurable\":{\"thread_id\":\"1\"}}"
   ]
  },
  {
   "cell_type": "code",
   "execution_count": 81,
   "id": "a28e449d",
   "metadata": {},
   "outputs": [
    {
     "name": "stdout",
     "output_type": "stream",
     "text": [
      "Limit: 1\n",
      "\n",
      "JOB INFO : {'job_title': 'Data Scientist', 'company': 'TechNova Solutions', 'location': None, 'job_type': None, 'description': None, 'required_skills': []}\n",
      "\n",
      "State:{'response': 'Please provide location, job type, description, and required skills', 'user_input': 'I am applying for Data Scientist at TechNova Solutions', 'job_title': 'Data Scientist', 'company': 'TechNova Solutions', 'limit': 1, 'end': False}\n",
      "Limit: 2\n",
      "\n",
      "JOB INFO : {'job_title': None, 'company': None, 'location': 'Pune', 'job_type': None, 'description': None, 'required_skills': []}\n",
      "\n",
      "State:{'response': 'Please provide job type, description and required skills', 'user_input': 't’s based in Pune', 'job_title': 'Data Scientist', 'company': 'TechNova Solutions', 'location': 'Pune', 'limit': 2, 'end': False}\n",
      "Limit: 3\n",
      "\n",
      "JOB INFO : {'job_title': None, 'company': None, 'location': None, 'job_type': None, 'description': None, 'required_skills': ['Python', 'SQL']}\n",
      "\n",
      "State:{'response': 'Missing fields: job_type, description. Please provide these details.', 'user_input': 'Required skills are Python, SQL', 'job_title': 'Data Scientist', 'company': 'TechNova Solutions', 'location': 'Pune', 'required_skills': ['Python', 'SQL'], 'limit': 3, 'end': False}\n",
      "Limit: 4\n",
      "\n",
      "JOB INFO : {'job_title': None, 'company': None, 'location': None, 'job_type': 'Full-time', 'description': None, 'required_skills': []}\n",
      "\n",
      "Analysis: {'good': ['Python'], 'missing': ['SQL'], 'summary': 'The candidate has some relevant skills like Python, but lacks SQL experience and has no direct experience as a Data Scientist.'}\n",
      "\n"
     ]
    }
   ],
   "source": [
    "while True:\n",
    "    user_text = input(\"You: \")\n",
    "    state[\"user_input\"] = user_text\n",
    "    state = app.invoke(state , config=config)\n",
    "    if state.get(\"end\", False) or state.get(\"limit\" , 0) >= 6:\n",
    "       print(f\"Analysis: {state['analysis']}\\n\")\n",
    "       break\n",
    "    print(f\"State:{state}\")"
   ]
  },
  {
   "cell_type": "code",
   "execution_count": null,
   "id": "93c56391",
   "metadata": {},
   "outputs": [],
   "source": []
  }
 ],
 "metadata": {
  "kernelspec": {
   "display_name": "ai",
   "language": "python",
   "name": "python3"
  },
  "language_info": {
   "codemirror_mode": {
    "name": "ipython",
    "version": 3
   },
   "file_extension": ".py",
   "mimetype": "text/x-python",
   "name": "python",
   "nbconvert_exporter": "python",
   "pygments_lexer": "ipython3",
   "version": "3.10.16"
  }
 },
 "nbformat": 4,
 "nbformat_minor": 5
}
