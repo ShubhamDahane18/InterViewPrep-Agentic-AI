{
 "cells": [
  {
   "cell_type": "code",
   "execution_count": 1,
   "id": "edd8fb8d",
   "metadata": {},
   "outputs": [],
   "source": [
    "import pandas as pd"
   ]
  },
  {
   "cell_type": "code",
   "execution_count": 2,
   "id": "f7fe36fd",
   "metadata": {},
   "outputs": [],
   "source": [
    "data = pd.read_json(\"hr_interview_questions_dataset.json\")"
   ]
  },
  {
   "cell_type": "code",
   "execution_count": 3,
   "id": "31a180b0",
   "metadata": {},
   "outputs": [
    {
     "data": {
      "text/html": [
       "<div>\n",
       "<style scoped>\n",
       "    .dataframe tbody tr th:only-of-type {\n",
       "        vertical-align: middle;\n",
       "    }\n",
       "\n",
       "    .dataframe tbody tr th {\n",
       "        vertical-align: top;\n",
       "    }\n",
       "\n",
       "    .dataframe thead th {\n",
       "        text-align: right;\n",
       "    }\n",
       "</style>\n",
       "<table border=\"1\" class=\"dataframe\">\n",
       "  <thead>\n",
       "    <tr style=\"text-align: right;\">\n",
       "      <th></th>\n",
       "      <th>question</th>\n",
       "      <th>category</th>\n",
       "      <th>role</th>\n",
       "      <th>experience</th>\n",
       "      <th>difficulty</th>\n",
       "      <th>source_type</th>\n",
       "      <th>ideal_answer</th>\n",
       "      <th>keywords</th>\n",
       "    </tr>\n",
       "  </thead>\n",
       "  <tbody>\n",
       "    <tr>\n",
       "      <th>0</th>\n",
       "      <td>Tell me about a time you had to learn somethin...</td>\n",
       "      <td>Adaptability</td>\n",
       "      <td>DevOps Engineer</td>\n",
       "      <td>fresher</td>\n",
       "      <td>Easy</td>\n",
       "      <td>Open-Ended</td>\n",
       "      <td>I'm always eager to learn and embrace change a...</td>\n",
       "      <td>[flexible, change]</td>\n",
       "    </tr>\n",
       "    <tr>\n",
       "      <th>1</th>\n",
       "      <td>Describe a time you handled a difficult situat...</td>\n",
       "      <td>Conflict Resolution</td>\n",
       "      <td>Product Manager</td>\n",
       "      <td>2 years</td>\n",
       "      <td>Hard</td>\n",
       "      <td>Behavioral</td>\n",
       "      <td>When faced with conflict, I approach it calmly...</td>\n",
       "      <td>[problem, disagree]</td>\n",
       "    </tr>\n",
       "    <tr>\n",
       "      <th>2</th>\n",
       "      <td>Where do you see yourself in 5 years?</td>\n",
       "      <td>Career Goals</td>\n",
       "      <td>Data Scientist</td>\n",
       "      <td>2 years</td>\n",
       "      <td>Medium</td>\n",
       "      <td>Open-Ended</td>\n",
       "      <td>My long-term goal is to grow into a senior rol...</td>\n",
       "      <td>[aspiration, dream]</td>\n",
       "    </tr>\n",
       "    <tr>\n",
       "      <th>3</th>\n",
       "      <td>Tell me about a conflict you had with a cowork...</td>\n",
       "      <td>Conflict Resolution</td>\n",
       "      <td>Marketing Associate</td>\n",
       "      <td>4 years</td>\n",
       "      <td>Hard</td>\n",
       "      <td>STAR-Based</td>\n",
       "      <td>When faced with conflict, I approach it calmly...</td>\n",
       "      <td>[problem, disagree]</td>\n",
       "    </tr>\n",
       "    <tr>\n",
       "      <th>4</th>\n",
       "      <td>What skills do you hope to develop in your nex...</td>\n",
       "      <td>Career Goals</td>\n",
       "      <td>Marketing Associate</td>\n",
       "      <td>1 year</td>\n",
       "      <td>Easy</td>\n",
       "      <td>Situational</td>\n",
       "      <td>My long-term goal is to grow into a senior rol...</td>\n",
       "      <td>[future, aspiration]</td>\n",
       "    </tr>\n",
       "  </tbody>\n",
       "</table>\n",
       "</div>"
      ],
      "text/plain": [
       "                                            question             category  \\\n",
       "0  Tell me about a time you had to learn somethin...         Adaptability   \n",
       "1  Describe a time you handled a difficult situat...  Conflict Resolution   \n",
       "2              Where do you see yourself in 5 years?         Career Goals   \n",
       "3  Tell me about a conflict you had with a cowork...  Conflict Resolution   \n",
       "4  What skills do you hope to develop in your nex...         Career Goals   \n",
       "\n",
       "                  role experience difficulty  source_type  \\\n",
       "0      DevOps Engineer    fresher       Easy   Open-Ended   \n",
       "1      Product Manager    2 years       Hard   Behavioral   \n",
       "2       Data Scientist    2 years     Medium   Open-Ended   \n",
       "3  Marketing Associate    4 years       Hard   STAR-Based   \n",
       "4  Marketing Associate     1 year       Easy  Situational   \n",
       "\n",
       "                                        ideal_answer              keywords  \n",
       "0  I'm always eager to learn and embrace change a...    [flexible, change]  \n",
       "1  When faced with conflict, I approach it calmly...   [problem, disagree]  \n",
       "2  My long-term goal is to grow into a senior rol...   [aspiration, dream]  \n",
       "3  When faced with conflict, I approach it calmly...   [problem, disagree]  \n",
       "4  My long-term goal is to grow into a senior rol...  [future, aspiration]  "
      ]
     },
     "execution_count": 3,
     "metadata": {},
     "output_type": "execute_result"
    }
   ],
   "source": [
    "data.head()"
   ]
  },
  {
   "cell_type": "code",
   "execution_count": 4,
   "id": "2450aced",
   "metadata": {},
   "outputs": [
    {
     "name": "stdout",
     "output_type": "stream",
     "text": [
      "<class 'pandas.core.frame.DataFrame'>\n",
      "RangeIndex: 2500000 entries, 0 to 2499999\n",
      "Data columns (total 8 columns):\n",
      " #   Column        Dtype \n",
      "---  ------        ----- \n",
      " 0   question      object\n",
      " 1   category      object\n",
      " 2   role          object\n",
      " 3   experience    object\n",
      " 4   difficulty    object\n",
      " 5   source_type   object\n",
      " 6   ideal_answer  object\n",
      " 7   keywords      object\n",
      "dtypes: object(8)\n",
      "memory usage: 152.6+ MB\n"
     ]
    }
   ],
   "source": [
    "data.info()"
   ]
  },
  {
   "cell_type": "code",
   "execution_count": 5,
   "id": "5c898c76",
   "metadata": {},
   "outputs": [
    {
     "data": {
      "text/html": [
       "<div>\n",
       "<style scoped>\n",
       "    .dataframe tbody tr th:only-of-type {\n",
       "        vertical-align: middle;\n",
       "    }\n",
       "\n",
       "    .dataframe tbody tr th {\n",
       "        vertical-align: top;\n",
       "    }\n",
       "\n",
       "    .dataframe thead th {\n",
       "        text-align: right;\n",
       "    }\n",
       "</style>\n",
       "<table border=\"1\" class=\"dataframe\">\n",
       "  <thead>\n",
       "    <tr style=\"text-align: right;\">\n",
       "      <th></th>\n",
       "      <th>question</th>\n",
       "      <th>category</th>\n",
       "      <th>role</th>\n",
       "      <th>experience</th>\n",
       "      <th>difficulty</th>\n",
       "      <th>source_type</th>\n",
       "      <th>ideal_answer</th>\n",
       "      <th>keywords</th>\n",
       "    </tr>\n",
       "  </thead>\n",
       "  <tbody>\n",
       "    <tr>\n",
       "      <th>count</th>\n",
       "      <td>2500000</td>\n",
       "      <td>2500000</td>\n",
       "      <td>2500000</td>\n",
       "      <td>2500000</td>\n",
       "      <td>2500000</td>\n",
       "      <td>2500000</td>\n",
       "      <td>2500000</td>\n",
       "      <td>2500000</td>\n",
       "    </tr>\n",
       "    <tr>\n",
       "      <th>unique</th>\n",
       "      <td>40</td>\n",
       "      <td>8</td>\n",
       "      <td>8</td>\n",
       "      <td>9</td>\n",
       "      <td>3</td>\n",
       "      <td>4</td>\n",
       "      <td>40</td>\n",
       "      <td>180</td>\n",
       "    </tr>\n",
       "    <tr>\n",
       "      <th>top</th>\n",
       "      <td>What's the most significant change you've had ...</td>\n",
       "      <td>Adaptability</td>\n",
       "      <td>QA Analyst</td>\n",
       "      <td>fresher</td>\n",
       "      <td>Medium</td>\n",
       "      <td>Open-Ended</td>\n",
       "      <td>I'm always eager to learn and embrace change a...</td>\n",
       "      <td>[method, workflow]</td>\n",
       "    </tr>\n",
       "    <tr>\n",
       "      <th>freq</th>\n",
       "      <td>63209</td>\n",
       "      <td>313427</td>\n",
       "      <td>312997</td>\n",
       "      <td>278215</td>\n",
       "      <td>835209</td>\n",
       "      <td>625807</td>\n",
       "      <td>63209</td>\n",
       "      <td>15921</td>\n",
       "    </tr>\n",
       "  </tbody>\n",
       "</table>\n",
       "</div>"
      ],
      "text/plain": [
       "                                                 question      category  \\\n",
       "count                                             2500000       2500000   \n",
       "unique                                                 40             8   \n",
       "top     What's the most significant change you've had ...  Adaptability   \n",
       "freq                                                63209        313427   \n",
       "\n",
       "              role experience difficulty source_type  \\\n",
       "count      2500000    2500000    2500000     2500000   \n",
       "unique           8          9          3           4   \n",
       "top     QA Analyst    fresher     Medium  Open-Ended   \n",
       "freq        312997     278215     835209      625807   \n",
       "\n",
       "                                             ideal_answer            keywords  \n",
       "count                                             2500000             2500000  \n",
       "unique                                                 40                 180  \n",
       "top     I'm always eager to learn and embrace change a...  [method, workflow]  \n",
       "freq                                                63209               15921  "
      ]
     },
     "execution_count": 5,
     "metadata": {},
     "output_type": "execute_result"
    }
   ],
   "source": [
    "data.describe()"
   ]
  },
  {
   "cell_type": "code",
   "execution_count": 6,
   "id": "1274cf2b",
   "metadata": {},
   "outputs": [
    {
     "data": {
      "text/plain": [
       "array(['DevOps Engineer', 'Product Manager', 'Data Scientist',\n",
       "       'Marketing Associate', 'Software Engineer', 'QA Analyst',\n",
       "       'UX Designer', 'HR Specialist'], dtype=object)"
      ]
     },
     "execution_count": 6,
     "metadata": {},
     "output_type": "execute_result"
    }
   ],
   "source": [
    "data['role'].unique()"
   ]
  },
  {
   "cell_type": "code",
   "execution_count": 7,
   "id": "445b9c67",
   "metadata": {},
   "outputs": [
    {
     "data": {
      "text/plain": [
       "array(['fresher', '2 years', '4 years', '1 year', 'intern', '6 years',\n",
       "       '5 years', '3 years', '7+ years'], dtype=object)"
      ]
     },
     "execution_count": 7,
     "metadata": {},
     "output_type": "execute_result"
    }
   ],
   "source": [
    "data['experience'].unique()"
   ]
  },
  {
   "cell_type": "code",
   "execution_count": 8,
   "id": "29fd3846",
   "metadata": {},
   "outputs": [
    {
     "data": {
      "text/plain": [
       "array(['Easy', 'Hard', 'Medium'], dtype=object)"
      ]
     },
     "execution_count": 8,
     "metadata": {},
     "output_type": "execute_result"
    }
   ],
   "source": [
    "data['difficulty'].unique()"
   ]
  },
  {
   "cell_type": "code",
   "execution_count": 9,
   "id": "d5ae3d0a",
   "metadata": {},
   "outputs": [
    {
     "data": {
      "text/plain": [
       "array(['Adaptability', 'Conflict Resolution', 'Career Goals',\n",
       "       'Team Collaboration', 'Culture Fit', 'Motivation', 'Leadership',\n",
       "       'Work Style'], dtype=object)"
      ]
     },
     "execution_count": 9,
     "metadata": {},
     "output_type": "execute_result"
    }
   ],
   "source": [
    "data['category'].unique()"
   ]
  },
  {
   "cell_type": "code",
   "execution_count": 10,
   "id": "65c05b4d",
   "metadata": {},
   "outputs": [
    {
     "data": {
      "text/plain": [
       "40"
      ]
     },
     "execution_count": 10,
     "metadata": {},
     "output_type": "execute_result"
    }
   ],
   "source": [
    "len(data['question'].unique())"
   ]
  },
  {
   "cell_type": "code",
   "execution_count": 11,
   "id": "f4aa5d8e",
   "metadata": {},
   "outputs": [
    {
     "data": {
      "text/html": [
       "<div>\n",
       "<style scoped>\n",
       "    .dataframe tbody tr th:only-of-type {\n",
       "        vertical-align: middle;\n",
       "    }\n",
       "\n",
       "    .dataframe tbody tr th {\n",
       "        vertical-align: top;\n",
       "    }\n",
       "\n",
       "    .dataframe thead th {\n",
       "        text-align: right;\n",
       "    }\n",
       "</style>\n",
       "<table border=\"1\" class=\"dataframe\">\n",
       "  <thead>\n",
       "    <tr style=\"text-align: right;\">\n",
       "      <th></th>\n",
       "      <th>question</th>\n",
       "      <th>category</th>\n",
       "      <th>role</th>\n",
       "      <th>experience</th>\n",
       "      <th>difficulty</th>\n",
       "      <th>source_type</th>\n",
       "      <th>ideal_answer</th>\n",
       "      <th>keywords</th>\n",
       "    </tr>\n",
       "  </thead>\n",
       "  <tbody>\n",
       "    <tr>\n",
       "      <th>0</th>\n",
       "      <td>Describe a project where teamwork was essentia...</td>\n",
       "      <td>[Team Collaboration]</td>\n",
       "      <td>[DevOps Engineer, HR Specialist, Product Manag...</td>\n",
       "      <td>[1 year, 6 years, 7+ years, 3 years, intern, 4...</td>\n",
       "      <td>[Medium, Easy, Hard]</td>\n",
       "      <td>[STAR-Based, Behavioral, Open-Ended, Situational]</td>\n",
       "      <td>[I believe communication and mutual respect ar...</td>\n",
       "      <td>[cooperate, collaboration, team, group, partner]</td>\n",
       "    </tr>\n",
       "    <tr>\n",
       "      <th>1</th>\n",
       "      <td>Describe a time you failed and what you learne...</td>\n",
       "      <td>[Adaptability]</td>\n",
       "      <td>[DevOps Engineer, HR Specialist, Product Manag...</td>\n",
       "      <td>[1 year, 6 years, 7+ years, intern, 3 years, 4...</td>\n",
       "      <td>[Medium, Easy, Hard]</td>\n",
       "      <td>[Behavioral, Open-Ended, Situational, STAR-Based]</td>\n",
       "      <td>[I'm always eager to learn and embrace change ...</td>\n",
       "      <td>[adjust, learn, new, change, flexible]</td>\n",
       "    </tr>\n",
       "    <tr>\n",
       "      <th>2</th>\n",
       "      <td>Describe a time you felt out of place in a wor...</td>\n",
       "      <td>[Culture Fit]</td>\n",
       "      <td>[DevOps Engineer, HR Specialist, Marketing Ass...</td>\n",
       "      <td>[1 year, 6 years, 3 years, intern, 7+ years, 4...</td>\n",
       "      <td>[Medium, Easy, Hard]</td>\n",
       "      <td>[STAR-Based, Open-Ended, Behavioral, Situational]</td>\n",
       "      <td>[I thrive in collaborative, transparent enviro...</td>\n",
       "      <td>[company, fit, culture, environment, belief, v...</td>\n",
       "    </tr>\n",
       "    <tr>\n",
       "      <th>3</th>\n",
       "      <td>Describe a time you handled a difficult situat...</td>\n",
       "      <td>[Conflict Resolution]</td>\n",
       "      <td>[DevOps Engineer, HR Specialist, Product Manag...</td>\n",
       "      <td>[1 year, 6 years, 7+ years, intern, 3 years, 4...</td>\n",
       "      <td>[Medium, Easy, Hard]</td>\n",
       "      <td>[STAR-Based, Open-Ended, Behavioral, Situational]</td>\n",
       "      <td>[When faced with conflict, I approach it calml...</td>\n",
       "      <td>[problem, challenge, conflict, disagree, resolve]</td>\n",
       "    </tr>\n",
       "    <tr>\n",
       "      <th>4</th>\n",
       "      <td>Describe a time you led a project or team.</td>\n",
       "      <td>[Leadership]</td>\n",
       "      <td>[DevOps Engineer, HR Specialist, Marketing Ass...</td>\n",
       "      <td>[1 year, intern, 7+ years, 6 years, 3 years, 4...</td>\n",
       "      <td>[Medium, Easy, Hard]</td>\n",
       "      <td>[STAR-Based, Open-Ended, Behavioral, Situational]</td>\n",
       "      <td>[I lead by example and encourage open communic...</td>\n",
       "      <td>[lead, mentor, manage, guide, supervise]</td>\n",
       "    </tr>\n",
       "  </tbody>\n",
       "</table>\n",
       "</div>"
      ],
      "text/plain": [
       "                                            question               category  \\\n",
       "0  Describe a project where teamwork was essentia...   [Team Collaboration]   \n",
       "1  Describe a time you failed and what you learne...         [Adaptability]   \n",
       "2  Describe a time you felt out of place in a wor...          [Culture Fit]   \n",
       "3  Describe a time you handled a difficult situat...  [Conflict Resolution]   \n",
       "4         Describe a time you led a project or team.           [Leadership]   \n",
       "\n",
       "                                                role  \\\n",
       "0  [DevOps Engineer, HR Specialist, Product Manag...   \n",
       "1  [DevOps Engineer, HR Specialist, Product Manag...   \n",
       "2  [DevOps Engineer, HR Specialist, Marketing Ass...   \n",
       "3  [DevOps Engineer, HR Specialist, Product Manag...   \n",
       "4  [DevOps Engineer, HR Specialist, Marketing Ass...   \n",
       "\n",
       "                                          experience            difficulty  \\\n",
       "0  [1 year, 6 years, 7+ years, 3 years, intern, 4...  [Medium, Easy, Hard]   \n",
       "1  [1 year, 6 years, 7+ years, intern, 3 years, 4...  [Medium, Easy, Hard]   \n",
       "2  [1 year, 6 years, 3 years, intern, 7+ years, 4...  [Medium, Easy, Hard]   \n",
       "3  [1 year, 6 years, 7+ years, intern, 3 years, 4...  [Medium, Easy, Hard]   \n",
       "4  [1 year, intern, 7+ years, 6 years, 3 years, 4...  [Medium, Easy, Hard]   \n",
       "\n",
       "                                         source_type  \\\n",
       "0  [STAR-Based, Behavioral, Open-Ended, Situational]   \n",
       "1  [Behavioral, Open-Ended, Situational, STAR-Based]   \n",
       "2  [STAR-Based, Open-Ended, Behavioral, Situational]   \n",
       "3  [STAR-Based, Open-Ended, Behavioral, Situational]   \n",
       "4  [STAR-Based, Open-Ended, Behavioral, Situational]   \n",
       "\n",
       "                                        ideal_answer  \\\n",
       "0  [I believe communication and mutual respect ar...   \n",
       "1  [I'm always eager to learn and embrace change ...   \n",
       "2  [I thrive in collaborative, transparent enviro...   \n",
       "3  [When faced with conflict, I approach it calml...   \n",
       "4  [I lead by example and encourage open communic...   \n",
       "\n",
       "                                            keywords  \n",
       "0   [cooperate, collaboration, team, group, partner]  \n",
       "1             [adjust, learn, new, change, flexible]  \n",
       "2  [company, fit, culture, environment, belief, v...  \n",
       "3  [problem, challenge, conflict, disagree, resolve]  \n",
       "4           [lead, mentor, manage, guide, supervise]  "
      ]
     },
     "execution_count": 11,
     "metadata": {},
     "output_type": "execute_result"
    }
   ],
   "source": [
    "import pandas as pd\n",
    "\n",
    "# Assuming your dataset is already loaded as `data`\n",
    "grouped = data.groupby(\"question\").agg({\n",
    "    \"category\": lambda x: list(set(x)),\n",
    "    \"role\": lambda x: list(set(x)),\n",
    "    \"experience\": lambda x: list(set(x)),\n",
    "    \"difficulty\": lambda x: list(set(x)),\n",
    "    \"source_type\": lambda x: list(set(x)),\n",
    "    \"ideal_answer\": lambda x: list(set(x)),   # keep variations\n",
    "    \"keywords\": lambda x: list(set(sum(x, []))) if isinstance(x.iloc[0], list) else list(set(x))\n",
    "}).reset_index()\n",
    "\n",
    "grouped.head()"
   ]
  },
  {
   "cell_type": "code",
   "execution_count": 12,
   "id": "979c3d1f",
   "metadata": {},
   "outputs": [],
   "source": [
    "grouped.to_csv(\"grouped_hr_questions.csv\", index=False)"
   ]
  },
  {
   "cell_type": "code",
   "execution_count": 16,
   "id": "26f63727",
   "metadata": {},
   "outputs": [
    {
     "data": {
      "text/plain": [
       "40"
      ]
     },
     "execution_count": 16,
     "metadata": {},
     "output_type": "execute_result"
    }
   ],
   "source": [
    "len(grouped)"
   ]
  }
 ],
 "metadata": {
  "kernelspec": {
   "display_name": "ai",
   "language": "python",
   "name": "python3"
  },
  "language_info": {
   "codemirror_mode": {
    "name": "ipython",
    "version": 3
   },
   "file_extension": ".py",
   "mimetype": "text/x-python",
   "name": "python",
   "nbconvert_exporter": "python",
   "pygments_lexer": "ipython3",
   "version": "3.10.16"
  }
 },
 "nbformat": 4,
 "nbformat_minor": 5
}
